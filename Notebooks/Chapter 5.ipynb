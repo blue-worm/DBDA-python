{
 "cells": [
  {
   "cell_type": "markdown",
   "metadata": {},
   "source": [
    "## Chapter 5 - Bayes' Rule"
   ]
  },
  {
   "cell_type": "code",
   "execution_count": 1,
   "metadata": {},
   "outputs": [],
   "source": [
    "import numpy as np\n",
    "import matplotlib.pyplot as plt\n",
    "\n",
    "plt.style.use('seaborn-white')\n",
    "color = '#87ceeb'"
   ]
  },
  {
   "cell_type": "code",
   "execution_count": 2,
   "metadata": {},
   "outputs": [],
   "source": [
    "# helper function to return an optionally truncated normal distribution\n",
    "def normal(mu, sigma=.75, nvals=11, lbound=0, ubound=1):\n",
    "    dist = []\n",
    "    for x in np.linspace(lbound,ubound,nvals):\n",
    "        dist.append(np.exp(-np.power(x - mu, 2.) / (2 * np.power(sigma, 2.))))\n",
    "    return dist"
   ]
  },
  {
   "cell_type": "markdown",
   "metadata": {},
   "source": [
    "### Set up\n",
    "Here, we create a vector of values that $\\theta$ can take on.  This is the \"grid\" laid down on the parameter space.  It's a simple grid (only 1 dimension), but that's why what will follow is appropriately called a grid approximation.  By tweaking `n_theta_vals`, this grid can be course-grained (small values of `n_theta_vals`) or it can be very fine-grained (large values of `n_theta_vals`).  Start with small values to get a bit of an understading of how the approximation works and then crank it up to approach an exact solution."
   ]
  },
  {
   "cell_type": "code",
   "execution_count": 3,
   "metadata": {},
   "outputs": [],
   "source": [
    "n_theta_vals = 11\n",
    "#n_theta_vals = 1001\n",
    "\n",
    "theta = np.linspace(0, 1, n_theta_vals)"
   ]
  },
  {
   "cell_type": "markdown",
   "metadata": {},
   "source": [
    "### Prior\n",
    "`p_theta` is the vector of prior probabilities, each associated with the corresponding value of $\\theta$ that we just created.  There are several alternative priors specified here:\n",
    "\n",
    "- Uniform: specifies a belief that all values of $\\theta$ are equally credible\n",
    "- Triangle: values of $\\theta$ near 0.5, are more credible with credibility steadily declining as $\\theta$ moves away from 0.5\n",
    "- (Truncated) Normal: a conventional normal distribution, truncated to the permissible range of $\\theta$ values (i.e., 0-1)\n",
    "\n",
    "Try out each of them.  Tweak the mean and standard deviation of the normal distribution to see how they influence the posterior."
   ]
  },
  {
   "cell_type": "code",
   "execution_count": 4,
   "metadata": {},
   "outputs": [],
   "source": [
    "# uniform prior\n",
    "p_theta = np.ones_like(theta)\n",
    "\n",
    "# triangle prior\n",
    "#p_theta = np.minimum(theta, 1-theta)\n",
    "\n",
    "# (truncated) normal priors\n",
    "# wide prior\n",
    "#p_theta = normal(.5, 10, n_theta_vals)\n",
    "# narrow prior\n",
    "#p_theta = normal(.5, .04, n_theta_vals)\n",
    "\n",
    "# normalize the vector so that priors sum to 1 (making them proper probabilities)\n",
    "p_theta = p_theta / np.sum(p_theta)"
   ]
  },
  {
   "cell_type": "markdown",
   "metadata": {},
   "source": [
    "### Data\n",
    "This constructs a set of flip outcomes.  Specify the number of heads (i.e., `n_heads`) and the number of tails (i.e., `n_tails`).  There are three scenarios prepared:\n",
    "\n",
    "1. 1 flip that comes up heads\n",
    "2. 4 flips, 1 of which comes up heads (25% heads)\n",
    "3. 40 flips, 10 of which come up heads (25% heads)"
   ]
  },
  {
   "cell_type": "code",
   "execution_count": 5,
   "metadata": {},
   "outputs": [],
   "source": [
    "# example 1\n",
    "n_heads = 1\n",
    "n_tails = 0\n",
    "\n",
    "# example 2\n",
    "#n_heads = 1\n",
    "#n_tails = 3\n",
    "\n",
    "# example 3\n",
    "#n_heads = 10\n",
    "#n_tails = 30\n",
    "\n",
    "data = np.repeat([1, 0], [n_heads, n_tails])"
   ]
  },
  {
   "cell_type": "markdown",
   "metadata": {},
   "source": [
    "### Likelihood\n",
    "Here, we calculate the likelihood of the data we just constructed (i.e., $p(data|\\theta)$).  We will use a Bernoulli distribution and apply it to each of the values of $\\theta$ we are entertaining.  We then multiply each likelihood by the prior associated with the corresponding value of $\\theta$ and sum all of these values to arrive as what is sometimes called the _evidence_ (i.e., $p(data)$, or the denominator of Bayes' rule)."
   ]
  },
  {
   "cell_type": "code",
   "execution_count": 6,
   "metadata": {},
   "outputs": [],
   "source": [
    "p_data_given_theta = (theta**n_heads) * ( (1-theta)**n_tails )\n",
    "\n",
    "# calculate the evidence (P(D), the prior probability of the data)\n",
    "p_data = np.sum(p_data_given_theta * p_theta)"
   ]
  },
  {
   "cell_type": "markdown",
   "metadata": {},
   "source": [
    "### Inference\n",
    "Here, we put it all together, by applying Bayes' rule to each prior/likelihood pair to generate a corresponding posterior for each value of $\\theta$ we are entertaining."
   ]
  },
  {
   "cell_type": "code",
   "execution_count": 7,
   "metadata": {},
   "outputs": [],
   "source": [
    "p_theta_given_data = p_data_given_theta * p_theta / p_data"
   ]
  },
  {
   "cell_type": "markdown",
   "metadata": {},
   "source": [
    "### Visualize\n",
    "Plot the prior, the likelihood, and the posterior."
   ]
  },
  {
   "cell_type": "code",
   "execution_count": 8,
   "metadata": {},
   "outputs": [
    {
     "data": {
      "image/png": "[encoded data removed]",
      "text/plain": [
       "<Figure size 576x576 with 3 Axes>"
      ]
     },
     "metadata": {},
     "output_type": "display_data"
    }
   ],
   "source": [
    "fig = plt.figure(figsize=(8, 8))\n",
    "plt.subplots_adjust(hspace = 1.1)\n",
    "\n",
    "# Plot the prior, the likelihood, and the posterior:\n",
    "for i,dist in enumerate([p_theta, p_data_given_theta, p_theta_given_data]):\n",
    "    plt.subplot(3, 1, i+1)\n",
    "    markerline, stemlines, baseline = plt.stem(theta, dist, markerfmt=' ', basefmt=' ', use_line_collection=True)\n",
    "    plt.setp(stemlines, 'linewidth', 3)\n",
    "    plt.xlim(0, 1)\n",
    "    plt.xlabel('$\\\\theta$')\n",
    "\n",
    "# prior\n",
    "plt.axes(fig.axes[0])\n",
    "plt.xlabel(r'$\\theta$')\n",
    "plt.ylabel('$P(\\\\theta)$')\n",
    "plt.title('Prior', weight='bold')\n",
    "\n",
    "# likelihood\n",
    "plt.axes(fig.axes[1])\n",
    "plt.xlabel(r'$\\theta$')\n",
    "plt.ylabel('$P(D|\\\\theta)$')\n",
    "plt.title('Likelihood', weight='bold')\n",
    "plt.text(0.1, np.max(p_data_given_theta)/2, 'D = %sH,%sT' % (n_heads, n_tails))\n",
    "\n",
    "# posterior\n",
    "plt.axes(fig.axes[2])\n",
    "plt.xlabel(r'$\\theta$')\n",
    "plt.ylabel('$P(\\\\theta|D)$')\n",
    "plt.title('Posterior', weight='bold')\n",
    "plt.text(0.1, np.max(p_theta_given_data)/2, 'P(D) = %g' % p_data)\n",
    "\n",
    "plt.show()"
   ]
  }
 ],
 "metadata": {
  "kernelspec": {
   "display_name": "Python 3 (ipykernel)",
   "language": "python",
   "name": "python3"
  },
  "language_info": {
   "codemirror_mode": {
    "name": "ipython",
    "version": 3
   },
   "file_extension": ".py",
   "mimetype": "text/x-python",
   "name": "python",
   "nbconvert_exporter": "python",
   "pygments_lexer": "ipython3",
   "version": "3.10.8"
  }
 },
 "nbformat": 4,
 "nbformat_minor": 4
}
