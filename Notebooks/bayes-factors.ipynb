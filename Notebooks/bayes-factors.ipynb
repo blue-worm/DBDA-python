{
 "cells": [
  {
   "cell_type": "code",
   "execution_count": 1,
   "metadata": {},
   "outputs": [],
   "source": [
    "import pymc3 as pm\n",
    "import arviz as az\n",
    "from pymc3.math import switch\n",
    "import numpy as np"
   ]
  },
  {
   "cell_type": "markdown",
   "metadata": {},
   "source": [
    "## Bayes Factor for Two Different Coin Models\n",
    "This is taken from chapter 10 of Kruschke's book.  We hypothesize two types of coins.  One type of coin is hypothesized to be tail-biased and the other type of coin is head-biased.  These two possibilities will form our two hypotheses and we will calculate Bayes factors to evaluate their relative credibility."
   ]
  },
  {
   "cell_type": "code",
   "execution_count": 2,
   "metadata": {},
   "outputs": [],
   "source": [
    "with pm.Model() as eqPrior:\n",
    "    pm1 = pm.Categorical('pm1', [.5, .5])\n",
    "    \n",
    "    omega_0 = .25\n",
    "    kappa_0 = 12\n",
    "    theta_0 = pm.Beta('theta_0', mu=.25, sigma=.25)\n",
    "    \n",
    "    omega_1 = .75\n",
    "    kappa_1 = 12\n",
    "    theta_1 = pm.Beta('theta_1', mu=.75, sigma=.25)\n",
    "    \n",
    "    theta = pm.math.switch(pm.math.eq(pm1, 0), theta_0, theta_1)\n",
    "    \n",
    "    y2 = pm.Bernoulli('y2', theta, observed=[1,1,0,0,0,0,0,0])"
   ]
  },
  {
   "cell_type": "code",
   "execution_count": 3,
   "metadata": {},
   "outputs": [
    {
     "name": "stderr",
     "output_type": "stream",
     "text": [
      "/tmp/ipykernel_31999/1333868629.py:2: FutureWarning: In v4.0, pm.sample will return an `arviz.InferenceData` object instead of a `MultiTrace` by default. You can pass return_inferencedata=True or return_inferencedata=False to be safe and silence this warning.\n",
      "  trace2 = pm.sample(10000)\n",
      "Multiprocess sampling (2 chains in 2 jobs)\n",
      "CompoundStep\n",
      ">BinaryGibbsMetropolis: [pm1]\n",
      ">NUTS: [theta_1, theta_0]\n"
     ]
    },
    {
     "data": {
      "text/html": [
       "\n",
       "    <div>\n",
       "        <style>\n",
       "            /* Turns off some styling */\n",
       "            progress {\n",
       "                /* gets rid of default border in Firefox and Opera. */\n",
       "                border: none;\n",
       "                /* Needs to be in here for Safari polyfill so background images work as expected. */\n",
       "                background-size: auto;\n",
       "            }\n",
       "            .progress-bar-interrupted, .progress-bar-interrupted::-webkit-progress-bar {\n",
       "                background: #F44336;\n",
       "            }\n",
       "        </style>\n",
       "      <progress value='22000' class='' max='22000' style='width:300px; height:20px; vertical-align: middle;'></progress>\n",
       "      100.00% [22000/22000 00:16<00:00 Sampling 2 chains, 0 divergences]\n",
       "    </div>\n",
       "    "
      ],
      "text/plain": [
       "<IPython.core.display.HTML object>"
      ]
     },
     "metadata": {},
     "output_type": "display_data"
    },
    {
     "name": "stderr",
     "output_type": "stream",
     "text": [
      "Sampling 2 chains for 1_000 tune and 10_000 draw iterations (2_000 + 20_000 draws total) took 17 seconds.\n",
      "The number of effective samples is smaller than 10% for some parameters.\n"
     ]
    }
   ],
   "source": [
    "with eqPrior:\n",
    "    trace2 = pm.sample(10000)"
   ]
  },
  {
   "cell_type": "code",
   "execution_count": 4,
   "metadata": {},
   "outputs": [],
   "source": [
    "pm1 = trace2['pm1'].mean()  # mean value of model indicator variable"
   ]
  },
  {
   "cell_type": "markdown",
   "metadata": {},
   "source": [
    "The posterior is provided by the estimated value of the model indicator variable, `pm1`."
   ]
  },
  {
   "cell_type": "code",
   "execution_count": 5,
   "metadata": {},
   "outputs": [
    {
     "name": "stdout",
     "output_type": "stream",
     "text": [
      "Posterior: p(model 1|data) = 0.30\n"
     ]
    }
   ],
   "source": [
    "print(f'Posterior: p(model 1|data) = {pm1:.2f}')"
   ]
  },
  {
   "cell_type": "code",
   "execution_count": 6,
   "metadata": {},
   "outputs": [
    {
     "name": "stdout",
     "output_type": "stream",
     "text": [
      "Posterior: p(model 2|data) = 0.70\n"
     ]
    }
   ],
   "source": [
    "print(f'Posterior: p(model 2|data) = {(1-pm1):.2f}')"
   ]
  },
  {
   "cell_type": "code",
   "execution_count": 7,
   "metadata": {},
   "outputs": [
    {
     "name": "stdout",
     "output_type": "stream",
     "text": [
      "Posterior odds: p(model 2|data)/p(model 1|data) = 2.37\n"
     ]
    }
   ],
   "source": [
    "print(f'Posterior odds: p(model 2|data)/p(model 1|data) = {(1-pm1)/pm1:.2f}')"
   ]
  },
  {
   "cell_type": "code",
   "execution_count": 8,
   "metadata": {},
   "outputs": [
    {
     "name": "stdout",
     "output_type": "stream",
     "text": [
      "Bayes factor: p(model 2|data)/p(model 1|data) * p(model 1)/p(model 2) = 2.37\n"
     ]
    }
   ],
   "source": [
    "print(f'Bayes factor: p(model 2|data)/p(model 1|data) * p(model 1)/p(model 2) = {(1-pm1)/pm1 * (.5/.5):.2f}')"
   ]
  },
  {
   "cell_type": "markdown",
   "metadata": {},
   "source": [
    "So our posterior odd is identical to our Bayes factor.  This is because our prior on the model indicator variable gave equal credibility to each model."
   ]
  },
  {
   "cell_type": "code",
   "execution_count": 9,
   "metadata": {},
   "outputs": [],
   "source": [
    "with pm.Model() as uneqPrior:\n",
    "    pm1 = pm.Categorical('pm1', [.25, .75])\n",
    "    \n",
    "    omega_0 = .25\n",
    "    kappa_0 = 12\n",
    "    theta_0 = pm.Beta('theta_0', mu=.25, sigma=.25)\n",
    "    \n",
    "    omega_1 = .75\n",
    "    kappa_1 = 12\n",
    "    theta_1 = pm.Beta('theta_1', mu=.75, sigma=.25)\n",
    "    \n",
    "    theta = pm.math.switch(pm.math.eq(pm1, 0), theta_0, theta_1)\n",
    "    \n",
    "    y2 = pm.Bernoulli('y2', theta, observed=[1,1,0,0,0,0,0,0])"
   ]
  },
  {
   "cell_type": "code",
   "execution_count": 10,
   "metadata": {},
   "outputs": [
    {
     "name": "stderr",
     "output_type": "stream",
     "text": [
      "/tmp/ipykernel_31999/1661562344.py:2: FutureWarning: In v4.0, pm.sample will return an `arviz.InferenceData` object instead of a `MultiTrace` by default. You can pass return_inferencedata=True or return_inferencedata=False to be safe and silence this warning.\n",
      "  trace2 = pm.sample(10000)\n",
      "Multiprocess sampling (2 chains in 2 jobs)\n",
      "CompoundStep\n",
      ">BinaryGibbsMetropolis: [pm1]\n",
      ">NUTS: [theta_1, theta_0]\n"
     ]
    },
    {
     "data": {
      "text/html": [
       "\n",
       "    <div>\n",
       "        <style>\n",
       "            /* Turns off some styling */\n",
       "            progress {\n",
       "                /* gets rid of default border in Firefox and Opera. */\n",
       "                border: none;\n",
       "                /* Needs to be in here for Safari polyfill so background images work as expected. */\n",
       "                background-size: auto;\n",
       "            }\n",
       "            .progress-bar-interrupted, .progress-bar-interrupted::-webkit-progress-bar {\n",
       "                background: #F44336;\n",
       "            }\n",
       "        </style>\n",
       "      <progress value='22000' class='' max='22000' style='width:300px; height:20px; vertical-align: middle;'></progress>\n",
       "      100.00% [22000/22000 00:16<00:00 Sampling 2 chains, 0 divergences]\n",
       "    </div>\n",
       "    "
      ],
      "text/plain": [
       "<IPython.core.display.HTML object>"
      ]
     },
     "metadata": {},
     "output_type": "display_data"
    },
    {
     "name": "stderr",
     "output_type": "stream",
     "text": [
      "Sampling 2 chains for 1_000 tune and 10_000 draw iterations (2_000 + 20_000 draws total) took 17 seconds.\n",
      "The number of effective samples is smaller than 10% for some parameters.\n"
     ]
    }
   ],
   "source": [
    "with uneqPrior:\n",
    "    trace2 = pm.sample(10000)"
   ]
  },
  {
   "cell_type": "code",
   "execution_count": 11,
   "metadata": {},
   "outputs": [],
   "source": [
    "pm1 = trace2['pm1'].mean()  # mean value of model indicator variable"
   ]
  },
  {
   "cell_type": "code",
   "execution_count": 12,
   "metadata": {},
   "outputs": [
    {
     "name": "stdout",
     "output_type": "stream",
     "text": [
      "Posterior: p(model 1|data) = 0.54\n"
     ]
    }
   ],
   "source": [
    "print(f'Posterior: p(model 1|data) = {pm1:.2f}')"
   ]
  },
  {
   "cell_type": "code",
   "execution_count": 13,
   "metadata": {},
   "outputs": [
    {
     "name": "stdout",
     "output_type": "stream",
     "text": [
      "Posterior: p(model 2|data) = 0.46\n"
     ]
    }
   ],
   "source": [
    "print(f'Posterior: p(model 2|data) = {(1-pm1):.2f}')"
   ]
  },
  {
   "cell_type": "code",
   "execution_count": 14,
   "metadata": {},
   "outputs": [
    {
     "name": "stdout",
     "output_type": "stream",
     "text": [
      "Posterior odds: p(model 1|data)/p(model 2|data) = 1.18\n"
     ]
    }
   ],
   "source": [
    "print(f'Posterior odds: p(model 1|data)/p(model 2|data) = {pm1/(1-pm1):.2f}')"
   ]
  },
  {
   "cell_type": "code",
   "execution_count": 15,
   "metadata": {},
   "outputs": [
    {
     "name": "stdout",
     "output_type": "stream",
     "text": [
      "Bayes factor: p(model 1|data)/p(model 2|data) * p(model 2)/p(model 1) = 3.53\n"
     ]
    }
   ],
   "source": [
    "print(f'Bayes factor: p(model 1|data)/p(model 2|data) * p(model 2)/p(model 1) = {pm1/(1-pm1) * (.75/.25):.2f}')"
   ]
  },
  {
   "cell_type": "markdown",
   "metadata": {},
   "source": [
    "Here, the posteroir odds and the Bayes factor are different because we gave more (prior) credibility to model 2.  So the posterior probabilies of the two model are nearly identical, but that reflects the our priors (favoring model 2) and the likelihoods (favoring model 1) more or less cancelling each other out."
   ]
  },
  {
   "cell_type": "markdown",
   "metadata": {},
   "source": [
    "## Bayes Factor with a \"Null\" Hypothesis\n",
    "Let's test a more traditional \"null hypothesis\".  Here, we will posit two types of coins.  One type is characterized by a value of theta that is exactly 0.5.  We have absolute confidence that such a coin's value of theta is not .4999999999 nor .5000000001, etc.  The other type of coin could have any value of theta (0-1) and all values are equally credible a priori.  We then observe some data and ask whether such data should convince us that the coin is \"fair\" (H_0) or not (H_1)."
   ]
  },
  {
   "cell_type": "code",
   "execution_count": 16,
   "metadata": {},
   "outputs": [],
   "source": [
    "n_heads = 2\n",
    "n_tails = 8\n",
    "data3 = np.repeat([1, 0], [n_heads, n_tails])"
   ]
  },
  {
   "cell_type": "code",
   "execution_count": 17,
   "metadata": {},
   "outputs": [],
   "source": [
    "with pm.Model() as model3:\n",
    "    pm1 = pm.Categorical('pm1', [.5, .5])\n",
    "    \n",
    "    theta_0 = 0.5\n",
    "    \n",
    "    theta_1 = pm.Beta('theta_1', 1, 1)\n",
    "    \n",
    "    theta = pm.math.switch(pm.math.eq(pm1, 0), theta_0, theta_1)\n",
    "    \n",
    "    y2 = pm.Bernoulli('y2', theta, observed=data3)"
   ]
  },
  {
   "cell_type": "code",
   "execution_count": 18,
   "metadata": {},
   "outputs": [
    {
     "name": "stderr",
     "output_type": "stream",
     "text": [
      "/tmp/ipykernel_31999/408783495.py:2: FutureWarning: In v4.0, pm.sample will return an `arviz.InferenceData` object instead of a `MultiTrace` by default. You can pass return_inferencedata=True or return_inferencedata=False to be safe and silence this warning.\n",
      "  trace3 = pm.sample(10000, tune=5000)\n",
      "Multiprocess sampling (2 chains in 2 jobs)\n",
      "CompoundStep\n",
      ">BinaryGibbsMetropolis: [pm1]\n",
      ">NUTS: [theta_1]\n"
     ]
    },
    {
     "data": {
      "text/html": [
       "\n",
       "    <div>\n",
       "        <style>\n",
       "            /* Turns off some styling */\n",
       "            progress {\n",
       "                /* gets rid of default border in Firefox and Opera. */\n",
       "                border: none;\n",
       "                /* Needs to be in here for Safari polyfill so background images work as expected. */\n",
       "                background-size: auto;\n",
       "            }\n",
       "            .progress-bar-interrupted, .progress-bar-interrupted::-webkit-progress-bar {\n",
       "                background: #F44336;\n",
       "            }\n",
       "        </style>\n",
       "      <progress value='30000' class='' max='30000' style='width:300px; height:20px; vertical-align: middle;'></progress>\n",
       "      100.00% [30000/30000 00:16<00:00 Sampling 2 chains, 0 divergences]\n",
       "    </div>\n",
       "    "
      ],
      "text/plain": [
       "<IPython.core.display.HTML object>"
      ]
     },
     "metadata": {},
     "output_type": "display_data"
    },
    {
     "name": "stderr",
     "output_type": "stream",
     "text": [
      "Sampling 2 chains for 5_000 tune and 10_000 draw iterations (10_000 + 20_000 draws total) took 16 seconds.\n",
      "The acceptance probability does not match the target. It is 0.6411841768309823, but should be close to 0.8. Try to increase the number of tuning steps.\n"
     ]
    }
   ],
   "source": [
    "with model3:\n",
    "    trace3 = pm.sample(10000, tune=5000)"
   ]
  },
  {
   "cell_type": "code",
   "execution_count": 19,
   "metadata": {},
   "outputs": [],
   "source": [
    "pm1 = trace3['pm1'].mean()  # mean value of model indicator variable"
   ]
  },
  {
   "cell_type": "code",
   "execution_count": 20,
   "metadata": {},
   "outputs": [
    {
     "data": {
      "text/plain": [
       "0.67385"
      ]
     },
     "execution_count": 20,
     "metadata": {},
     "output_type": "execute_result"
    }
   ],
   "source": [
    "pm1"
   ]
  },
  {
   "cell_type": "code",
   "execution_count": 21,
   "metadata": {},
   "outputs": [
    {
     "name": "stdout",
     "output_type": "stream",
     "text": [
      "Posterior: p(model 1|data) = 0.67\n"
     ]
    }
   ],
   "source": [
    "print(f'Posterior: p(model 1|data) = {pm1:.2f}')"
   ]
  },
  {
   "cell_type": "code",
   "execution_count": 22,
   "metadata": {},
   "outputs": [
    {
     "name": "stdout",
     "output_type": "stream",
     "text": [
      "Posterior: p(model 2|data) = 0.33\n"
     ]
    }
   ],
   "source": [
    "print(f'Posterior: p(model 2|data) = {(1-pm1):.2f}')"
   ]
  },
  {
   "cell_type": "code",
   "execution_count": 23,
   "metadata": {},
   "outputs": [
    {
     "name": "stdout",
     "output_type": "stream",
     "text": [
      "Bayes factor: p(model 1|data)/p(model 2|data) * p(model 2)/p(model 1) = 2.07\n"
     ]
    }
   ],
   "source": [
    "print(f'Bayes factor: p(model 1|data)/p(model 2|data) * p(model 2)/p(model 1) = {pm1/(1-pm1) * (.5/.5):.2f}')"
   ]
  },
  {
   "cell_type": "markdown",
   "metadata": {},
   "source": [
    "So we have no good evidence that would allow us to choose between our 2 hypotheses.  The data isn't particularly consistent with our \"null hypothesis\".  A priori, the alternative hypothesis entails many credible values of theta that are much more consistent with the observed data (e.g., theta = .2).  However, this alternative hypothesis also entails many values of theta that are **highly** inconsistent with the observed data (e.g., theta = .9999).  So the \"null\" suffers because there is poor agreement with the data (i.e., likelihood) whereas the alternative hypothesis suffers because it is too agnostic about the possible values of theta.\n",
    "\n",
    "Let's compare this to a traditional, frequentist procedure to compare these models.  We will first find the most likelihood of theta permitted each model, find the likelihood that each of these values yields, and then take the ratio of these likelihoods.\n",
    "\n",
    "To get a quick approximation of the maximum likelihood associated with our alternative hypothesis, we can plot the posterior and request a mode from the kernel density estimate."
   ]
  },
  {
   "cell_type": "code",
   "execution_count": 24,
   "metadata": {},
   "outputs": [
    {
     "data": {
      "image/png": "[encoded data removed]",
      "text/plain": [
       "<Figure size 432x288 with 1 Axes>"
      ]
     },
     "metadata": {
      "needs_background": "light"
     },
     "output_type": "display_data"
    }
   ],
   "source": [
    "az.plot_posterior(trace3['theta_1'], point_estimate='mode');"
   ]
  },
  {
   "cell_type": "markdown",
   "metadata": {},
   "source": [
    "So the value of theta that gives us the maximum likelihood is 0.2 (which makes sense because we observed 2 heads in our 10 flips).  So we can use that.  Of course our null hypothesis has theta fixed at 0.5."
   ]
  },
  {
   "cell_type": "code",
   "execution_count": 25,
   "metadata": {},
   "outputs": [],
   "source": [
    "mle_h0 = .5\n",
    "mle_h1 = .2 # 20% of flips were heads"
   ]
  },
  {
   "cell_type": "markdown",
   "metadata": {},
   "source": [
    "These are the values of theta that maximize the likelihood of the observed data.  Now we need to know what the likelihood of our observed data under each of these values of theta.  We know how to calculate the likelihood of a set of flips from earlier."
   ]
  },
  {
   "cell_type": "code",
   "execution_count": 26,
   "metadata": {},
   "outputs": [],
   "source": [
    "def likelihood(theta, n_flips, n_heads):\n",
    "    return (theta**n_heads) * ( (1-theta)**(n_flips - n_heads) )"
   ]
  },
  {
   "cell_type": "code",
   "execution_count": 27,
   "metadata": {},
   "outputs": [
    {
     "name": "stdout",
     "output_type": "stream",
     "text": [
      "likelihood_h0 = 0.0010\n",
      "likelihood_h1 = 0.0067\n"
     ]
    }
   ],
   "source": [
    "likelihood_h0 = likelihood(mle_h0, n_heads+n_tails, n_heads)\n",
    "print(f'likelihood_h0 = {likelihood_h0:.4f}')\n",
    "likelihood_h1 = likelihood(mle_h1, n_heads+n_tails, n_heads)\n",
    "print(f'likelihood_h1 = {likelihood_h1:.4f}')"
   ]
  },
  {
   "cell_type": "code",
   "execution_count": 28,
   "metadata": {},
   "outputs": [
    {
     "name": "stdout",
     "output_type": "stream",
     "text": [
      "Likelihood Ratio = 6.87\n"
     ]
    }
   ],
   "source": [
    "print(f'Likelihood Ratio = {likelihood_h1 / likelihood_h0:.2f}')"
   ]
  },
  {
   "cell_type": "markdown",
   "metadata": {},
   "source": [
    "In the limit of large data, likelihood ratios (multiplied by 2) are chi-squared distributed, with a degree of freedom equal to the difference in the number of parameters in the two models.  Here, our alternative hypothesis has 1 parameter (theta) and our null hypothesis doesn't have any.  So the df=1.  Let's calculate a p-value."
   ]
  },
  {
   "cell_type": "code",
   "execution_count": 29,
   "metadata": {},
   "outputs": [
    {
     "name": "stdout",
     "output_type": "stream",
     "text": [
      "p = 0.0002\n"
     ]
    }
   ],
   "source": [
    "from scipy.stats import chi2\n",
    "\n",
    "print(f'p = {1 - chi2.cdf(2 * (likelihood_h1 / likelihood_h0), 1):.4f}')"
   ]
  },
  {
   "cell_type": "markdown",
   "metadata": {},
   "source": [
    "So our likelihood-ratio test is suggesting that we should be extremely skeptical of our null hypothesis whereas the Bayes factor was basically ambivalent.  What is going on?\n",
    "\n",
    "The key difference between the Bayes factor and the likelihood-ratio test is that the Bayes factor treats our alternative hypothesis as embodying the full prior (i.e., theta~U(0,1)), whereas the likelihood ratio test, being a frequestist test, doesn't know anything about our priors.  As a result, the likelihood-ratio test permits the alternative hypothesis to reflect whatever value of theta is most consistent with the observed data (i.e., the maximium likelihood estimate).  But that's an extrodinary degree of flexibility.  Our alternative hypothesis gets to adapt itself to the data it is seeking to explain, no matter how credible the final estimate was before we observed the data.  This means that we should construct our hypotheses so as to be as open-minded and agnostic as possible, because we are only penalized when we observe data that are inconsistent with any configuration of our hypothesis (e.g., combination of parameter values).  We are penalized for being unparsimonious, but only coarsely (i.e., the alternative hypothesis is penalized for having 1 more parameter than our \"null\").\n",
    "\n",
    "In the Bayes factor, our agnosticism about the cedible values of theta represents a substantial tradeoff.  Being uncertain is good because an uncertain hypothesis will be somewhat consistent with many different patterns of data that **might** be observed.  However, an uncertain hypotheiss will also be consistent with many different patterns of data that **were not** observed.  The former is good, but the latter is bad.  The Bayes factor (and all Bayesian approaches) appropriately balance both of these facets and does so thoroughly (incorporating the prior credibility of each parameter value and how the likleihood of the data in light of each parameter value).  This is the sense in which people say that Bayesian approaches naturally ensure parsimony.  The more agnostic you are (regardless of how many parameters your model has), the less parsimonious your hypotheses are, and the lower the likelihood of the overall model will be.\n",
    "\n",
    "To see this in action, let's consider the same 2 hypothesis but evaluate them on a data set that is highly likely under the \"null\".  In this data set, 50% of flips come up heads.  In a frequentist context, our two hypotheses are indistinguisable.  In a Bayesian context, the parsimony of the \"null\" should cause it to win out over the more agnostic alterntive hypothesis."
   ]
  },
  {
   "cell_type": "code",
   "execution_count": 30,
   "metadata": {},
   "outputs": [],
   "source": [
    "n_heads = 10\n",
    "n_tails = 10\n",
    "data3 = np.repeat([1, 0], [n_heads, n_tails])"
   ]
  },
  {
   "cell_type": "code",
   "execution_count": 31,
   "metadata": {},
   "outputs": [],
   "source": [
    "with pm.Model() as model4:\n",
    "    pm1 = pm.Categorical('pm1', [.5, .5])\n",
    "    \n",
    "    theta_0 = 0.5\n",
    "    \n",
    "    theta_1 = pm.Beta('theta_1', 1, 1)\n",
    "    \n",
    "    theta = pm.math.switch(pm.math.eq(pm1, 0), theta_0, theta_1)\n",
    "    \n",
    "    y2 = pm.Bernoulli('y2', theta, observed=data3)"
   ]
  },
  {
   "cell_type": "code",
   "execution_count": 32,
   "metadata": {},
   "outputs": [
    {
     "name": "stderr",
     "output_type": "stream",
     "text": [
      "/tmp/ipykernel_31999/3895304449.py:2: FutureWarning: In v4.0, pm.sample will return an `arviz.InferenceData` object instead of a `MultiTrace` by default. You can pass return_inferencedata=True or return_inferencedata=False to be safe and silence this warning.\n",
      "  trace4 = pm.sample(10000, tune=5000)\n",
      "Multiprocess sampling (2 chains in 2 jobs)\n",
      "CompoundStep\n",
      ">BinaryGibbsMetropolis: [pm1]\n",
      ">NUTS: [theta_1]\n"
     ]
    },
    {
     "data": {
      "text/html": [
       "\n",
       "    <div>\n",
       "        <style>\n",
       "            /* Turns off some styling */\n",
       "            progress {\n",
       "                /* gets rid of default border in Firefox and Opera. */\n",
       "                border: none;\n",
       "                /* Needs to be in here for Safari polyfill so background images work as expected. */\n",
       "                background-size: auto;\n",
       "            }\n",
       "            .progress-bar-interrupted, .progress-bar-interrupted::-webkit-progress-bar {\n",
       "                background: #F44336;\n",
       "            }\n",
       "        </style>\n",
       "      <progress value='30000' class='' max='30000' style='width:300px; height:20px; vertical-align: middle;'></progress>\n",
       "      100.00% [30000/30000 00:18<00:00 Sampling 2 chains, 0 divergences]\n",
       "    </div>\n",
       "    "
      ],
      "text/plain": [
       "<IPython.core.display.HTML object>"
      ]
     },
     "metadata": {},
     "output_type": "display_data"
    },
    {
     "name": "stderr",
     "output_type": "stream",
     "text": [
      "Sampling 2 chains for 5_000 tune and 10_000 draw iterations (10_000 + 20_000 draws total) took 19 seconds.\n"
     ]
    }
   ],
   "source": [
    "with model4:\n",
    "    trace4 = pm.sample(10000, tune=5000)"
   ]
  },
  {
   "cell_type": "code",
   "execution_count": 33,
   "metadata": {},
   "outputs": [],
   "source": [
    "pm1 = trace4['pm1'].mean()  # mean value of model indicator variable"
   ]
  },
  {
   "cell_type": "code",
   "execution_count": 34,
   "metadata": {},
   "outputs": [
    {
     "name": "stdout",
     "output_type": "stream",
     "text": [
      "Posterior: p(model 1|data) = 0.21\n"
     ]
    }
   ],
   "source": [
    "print(f'Posterior: p(model 1|data) = {pm1:.2f}')"
   ]
  },
  {
   "cell_type": "code",
   "execution_count": 35,
   "metadata": {},
   "outputs": [
    {
     "name": "stdout",
     "output_type": "stream",
     "text": [
      "Posterior: p(model 2|data) = 0.79\n"
     ]
    }
   ],
   "source": [
    "print(f'Posterior: p(model 2|data) = {(1-pm1):.2f}')"
   ]
  },
  {
   "cell_type": "code",
   "execution_count": 36,
   "metadata": {},
   "outputs": [
    {
     "name": "stdout",
     "output_type": "stream",
     "text": [
      "Bayes factor: p(model 2|data)/p(model 1|data) * p(model 1)/p(model 2) = 3.68\n"
     ]
    }
   ],
   "source": [
    "print(f'Bayes factor: p(model 2|data)/p(model 1|data) * p(model 1)/p(model 2) = {(1-pm1)/pm1 * (.5/.5):.2f}')"
   ]
  },
  {
   "cell_type": "markdown",
   "metadata": {},
   "source": [
    "Using our t-shirt guide to interpreting Bayes factor, we have \"substantial evidence\" in favor of our \"null\" hypothesis.  Why?  Because our alternative hypothesis was agnostic and implied that many theta values were credible.  The \"null\", in contrast, committed to exactly 1.  So our null hypothesis is far more parsimonious than the alternative.\n",
    "\n",
    "What does the likelihood-ratio test have to say about this?"
   ]
  },
  {
   "cell_type": "code",
   "execution_count": 37,
   "metadata": {},
   "outputs": [
    {
     "data": {
      "image/png": "[encoded data removed]",
      "text/plain": [
       "<Figure size 432x288 with 1 Axes>"
      ]
     },
     "metadata": {
      "needs_background": "light"
     },
     "output_type": "display_data"
    }
   ],
   "source": [
    "az.plot_posterior(trace4['theta_1'], point_estimate='mode');"
   ]
  },
  {
   "cell_type": "code",
   "execution_count": 38,
   "metadata": {},
   "outputs": [],
   "source": [
    "mle_h0 = .5\n",
    "mle_h1 = .5 # 50% of flips were heads"
   ]
  },
  {
   "cell_type": "code",
   "execution_count": 39,
   "metadata": {},
   "outputs": [
    {
     "name": "stdout",
     "output_type": "stream",
     "text": [
      "likelihood_h0 = 0.00000095\n",
      "likelihood_h1 = 0.00000095\n"
     ]
    }
   ],
   "source": [
    "likelihood_h0 = likelihood(mle_h0, n_heads+n_tails, n_heads)\n",
    "print(f'likelihood_h0 = {likelihood_h0:.8f}')\n",
    "likelihood_h1 = likelihood(mle_h1, n_heads+n_tails, n_heads)\n",
    "print(f'likelihood_h1 = {likelihood_h1:.8f}')"
   ]
  },
  {
   "cell_type": "code",
   "execution_count": 40,
   "metadata": {},
   "outputs": [
    {
     "name": "stdout",
     "output_type": "stream",
     "text": [
      "Likelihood Ratio = 1.00\n"
     ]
    }
   ],
   "source": [
    "print(f'Likelihood Ratio = {likelihood_h1 / likelihood_h0:.2f}')"
   ]
  },
  {
   "cell_type": "code",
   "execution_count": 41,
   "metadata": {},
   "outputs": [
    {
     "name": "stdout",
     "output_type": "stream",
     "text": [
      "p = 1.0000\n"
     ]
    }
   ],
   "source": [
    "print(f'p = {1 - chi2.cdf(-2 * (likelihood_h1 / likelihood_h0), 1):.4f}')"
   ]
  },
  {
   "cell_type": "markdown",
   "metadata": {},
   "source": [
    "The result of this likelihood-ratio test is pretty trivial, but confirms the expectation described above.  By treating each hypothesis as synomymous with the corresponding maximum likelihood estimate of theta, the two hypotheses end up being identical when we observe heads on 50% of our flips.\n",
    "\n",
    "### Take home message\n",
    "Bayes factors are fine, but I would almost never recommend them.  They are useful for performing NHST-style \"tests\" in a Bayesian framework, but the idea that you have to **choose** between two or more hypotheses is something that (I think) researchers never should have been doing in the first place.\n",
    "\n",
    "This is particularly true in the case of these point-estimate, \"null\"-style models.  We either believe that the value of $\\theta$ is *exactly* 0.50000000 or whether have no clue whatsoever what the value of $\\theta$ is?  It seems plausible that we don't actually believe one of these (e.g., as is the case in most NHST settings).\n",
    "\n",
    "On top of that, Bayes factors do not reflect our prior beliefs about the credibility of the models we are comparing.  Bayes factors speak to the \"evidential value\" of our data.  But, as we saw above, the data can strongly imply one model and our priors can strongly favor the other.  In such cases, Bayes factors only provide part of the relevant story.\n",
    "\n",
    "What do I recommend?  If you have data and a model and you would like to answer questions about the values of model parameters in light of the data, then **estimate** the credible values of those parameters and use the posterior to answer your questions.  If you are not sure whether a coin is fair or not, build a model in which theta can take on many values of theta and ask how credible the values far from 0.5 are (for one or more definitions of \"far\").  Ask how credible values of theta close to 0.5 are (for one or more definitions of \"close\").  But dichotomizing the world seems unwise.  Also the sampler doesn't like it."
   ]
  }
 ],
 "metadata": {
  "kernelspec": {
   "display_name": "Python 3 (ipykernel)",
   "language": "python",
   "name": "python3"
  },
  "language_info": {
   "codemirror_mode": {
    "name": "ipython",
    "version": 3
   },
   "file_extension": ".py",
   "mimetype": "text/x-python",
   "name": "python",
   "nbconvert_exporter": "python",
   "pygments_lexer": "ipython3",
   "version": "3.9.6"
  }
 },
 "nbformat": 4,
 "nbformat_minor": 4
}
